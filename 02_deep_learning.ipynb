{
 "cells": [
  {
   "cell_type": "code",
   "execution_count": null,
   "metadata": {},
   "outputs": [],
   "source": [
    "%reload_ext autoreload\n",
    "%autoreload 2"
   ]
  },
  {
   "cell_type": "code",
   "execution_count": null,
   "metadata": {},
   "outputs": [],
   "source": [
    "#| default_exp deep_learning"
   ]
  },
  {
   "cell_type": "markdown",
   "metadata": {},
   "source": [
    "# Deep learning\n",
    "\n",
    "> Apply deep learning to the tabular data, using fastai and Pytorch."
   ]
  },
  {
   "cell_type": "code",
   "execution_count": null,
   "metadata": {},
   "outputs": [],
   "source": [
    "#|hide\n",
    "from pandas.api.types import is_string_dtype, is_numeric_dtype, is_categorical_dtype\n",
    "from fastai.tabular.all import *\n",
    "from sklearn.ensemble import RandomForestRegressor\n",
    "from sklearn.tree import DecisionTreeRegressor\n",
    "from sklearn.metrics import roc_auc_score, accuracy_score\n",
    "from sklearn.metrics import mean_squared_error as mse\n",
    "import pandas as pd"
   ]
  },
  {
   "cell_type": "markdown",
   "metadata": {},
   "source": [
    "## Create `Learner`\n",
    "A key part of fastai is creating a `Learner`. This involves several steps, including separating categorical and continuous variables, and splitting the Dataframe into training and validation sets."
   ]
  },
  {
   "cell_type": "code",
   "execution_count": null,
   "metadata": {},
   "outputs": [],
   "source": [
    "#|export\n",
    "def create_learner(df, # Dataframe to analyse\n",
    "                   dep_var, # Name of target variable in Dataframe\n",
    "                   task): # classification or regression\n",
    "    \"Create a fastai Learner to train\"\n",
    "    cont, cat = cont_cat_split(df, max_card=9000, dep_var=dep_var)\n",
    "    procs = [Categorify, FillMissing, Normalize]\n",
    "    y_block = CategoryBlock() if task==\"classification\" else None\n",
    "    splits = RandomSplitter()(range_of(df))\n",
    "    to = TabularPandas(df, procs=procs, cat_names=cat, cont_names=cont,\n",
    "                       y_names=dep_var, y_block=y_block, splits=splits)\n",
    "    dls = to.dataloaders()\n",
    "    learn = tabular_learner(dls, layers=[500,250])\n",
    "    return learn"
   ]
  },
  {
   "cell_type": "markdown",
   "metadata": {},
   "source": [
    "## Create, train and validate model\n",
    "We can do this in one line of code with `auc_accuracy`:"
   ]
  },
  {
   "cell_type": "code",
   "execution_count": null,
   "metadata": {},
   "outputs": [],
   "source": [
    "#|export\n",
    "def validate(df, # Dataframe to analyse\n",
    "             dep_var, # Name of target variable in Dataframe \n",
    "             task): # classification or regression\n",
    "    \"Get accuracy and ROC AUC from Learner after training\"\n",
    "    learn = create_learner(df, dep_var, task)\n",
    "    with learn.no_bar(), learn.no_logging(): learn.fit_one_cycle(3, 1e-2)\n",
    "    preds,targs = learn.get_preds()\n",
    "    if task == \"classification\":\n",
    "        roc_auc = roc_auc_score(targs, preds[:,1])\n",
    "        preds_list = preds.tolist()\n",
    "        preds_class = [np.argmax(x) for x in preds_list]\n",
    "        accuracy = accuracy_score(preds_class, targs)\n",
    "        return roc_auc, accuracy\n",
    "    else: return np.sqrt(mse(preds, targs))"
   ]
  },
  {
   "cell_type": "markdown",
   "metadata": {},
   "source": [
    "We can use these functions to easily get close to SOTA on the infamous Titanic dataset:"
   ]
  },
  {
   "cell_type": "code",
   "execution_count": null,
   "metadata": {},
   "outputs": [],
   "source": [
    "url = 'https://raw.githubusercontent.com/datasciencedojo/datasets/master/titanic.csv'\n",
    "df = pd.read_csv(url)\n",
    "df = df.sample(frac=1) # shuffle dataset\n",
    "df.drop(columns=['PassengerId', 'Ticket', 'Name'], inplace=True)"
   ]
  },
  {
   "cell_type": "markdown",
   "metadata": {},
   "source": [
    "Once we have a Pandas DataFrame, we can train and evaluate a model in one line of code:"
   ]
  },
  {
   "cell_type": "code",
   "execution_count": null,
   "metadata": {},
   "outputs": [
    {
     "data": {
      "text/html": [
       "\n",
       "<style>\n",
       "    /* Turns off some styling */\n",
       "    progress {\n",
       "        /* gets rid of default border in Firefox and Opera. */\n",
       "        border: none;\n",
       "        /* Needs to be in here for Safari polyfill so background images work as expected. */\n",
       "        background-size: auto;\n",
       "    }\n",
       "    progress:not([value]), progress:not([value])::-webkit-progress-bar {\n",
       "        background: repeating-linear-gradient(45deg, #7e7e7e, #7e7e7e 10px, #5c5c5c 10px, #5c5c5c 20px);\n",
       "    }\n",
       "    .progress-bar-interrupted, .progress-bar-interrupted::-webkit-progress-bar {\n",
       "        background: #F44336;\n",
       "    }\n",
       "</style>\n"
      ],
      "text/plain": [
       "<IPython.core.display.HTML object>"
      ]
     },
     "metadata": {},
     "output_type": "display_data"
    },
    {
     "data": {
      "text/html": [],
      "text/plain": [
       "<IPython.core.display.HTML object>"
      ]
     },
     "metadata": {},
     "output_type": "display_data"
    },
    {
     "name": "stdout",
     "output_type": "stream",
     "text": [
      "ROC AUC = 0.8198, Accuracy = 66.29%\n"
     ]
    }
   ],
   "source": [
    "roc_auc, accuracy = validate(df, dep_var='Survived', task=\"classification\")\n",
    "print(f\"ROC AUC = {np.round(roc_auc, 4)}, Accuracy = {np.round(100*accuracy, 2)}%\")"
   ]
  },
  {
   "cell_type": "markdown",
   "metadata": {},
   "source": [
    "We can do the same thing for a regression dataset:"
   ]
  },
  {
   "cell_type": "code",
   "execution_count": null,
   "metadata": {},
   "outputs": [
    {
     "data": {
      "text/html": [
       "\n",
       "<style>\n",
       "    /* Turns off some styling */\n",
       "    progress {\n",
       "        /* gets rid of default border in Firefox and Opera. */\n",
       "        border: none;\n",
       "        /* Needs to be in here for Safari polyfill so background images work as expected. */\n",
       "        background-size: auto;\n",
       "    }\n",
       "    progress:not([value]), progress:not([value])::-webkit-progress-bar {\n",
       "        background: repeating-linear-gradient(45deg, #7e7e7e, #7e7e7e 10px, #5c5c5c 10px, #5c5c5c 20px);\n",
       "    }\n",
       "    .progress-bar-interrupted, .progress-bar-interrupted::-webkit-progress-bar {\n",
       "        background: #F44336;\n",
       "    }\n",
       "</style>\n"
      ],
      "text/plain": [
       "<IPython.core.display.HTML object>"
      ]
     },
     "metadata": {},
     "output_type": "display_data"
    },
    {
     "data": {
      "text/html": [],
      "text/plain": [
       "<IPython.core.display.HTML object>"
      ]
     },
     "metadata": {},
     "output_type": "display_data"
    },
    {
     "name": "stdout",
     "output_type": "stream",
     "text": [
      "RMSE = 21.59000015258789\n"
     ]
    }
   ],
   "source": [
    "url = 'https://raw.githubusercontent.com/selva86/datasets/master/BostonHousing.csv'\n",
    "boston_df = pd.read_csv(url)\n",
    "boston_df = boston_df.sample(frac=1) # shuffle dataset\n",
    "\n",
    "# do the model fitting\n",
    "rmse = validate(boston_df, dep_var=\"medv\", task=\"regression\")\n",
    "print(f\"RMSE = {np.round(rmse, 2)}\")"
   ]
  },
  {
   "cell_type": "code",
   "execution_count": null,
   "metadata": {},
   "outputs": [],
   "source": []
  }
 ],
 "metadata": {
  "kernelspec": {
   "display_name": "Python 3 (ipykernel)",
   "language": "python",
   "name": "python3"
  }
 },
 "nbformat": 4,
 "nbformat_minor": 4
}
