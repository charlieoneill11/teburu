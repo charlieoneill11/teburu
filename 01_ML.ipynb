{
 "cells": [
  {
   "cell_type": "code",
   "execution_count": null,
   "metadata": {},
   "outputs": [],
   "source": [
    "%reload_ext autoreload\n",
    "%autoreload 2"
   ]
  },
  {
   "cell_type": "code",
   "execution_count": null,
   "metadata": {},
   "outputs": [],
   "source": [
    "#| default_exp ML"
   ]
  },
  {
   "cell_type": "markdown",
   "metadata": {},
   "source": [
    "# Traditional ML\n",
    "\n",
    "> Using traditional machine learning techniques to solve the problem."
   ]
  },
  {
   "cell_type": "code",
   "execution_count": null,
   "metadata": {},
   "outputs": [],
   "source": [
    "#|export\n",
    "from teburu.core import *\n",
    "from nbdev.showdoc import *\n",
    "from fastcore.all import *\n",
    "from sklearn.datasets import load_breast_cancer, load_diabetes\n",
    "from sklearn.model_selection import train_test_split\n",
    "from sklearn.metrics import mean_squared_error as mse\n",
    "from sklearn.metrics import accuracy_score\n",
    "import numpy as np\n",
    "import pandas as pd\n",
    "# classification models\n",
    "from sklearn.tree import DecisionTreeClassifier\n",
    "from sklearn.ensemble import RandomForestClassifier, VotingClassifier\n",
    "# regression models\n",
    "import xgboost as xgb\n",
    "from sklearn import linear_model\n",
    "from sklearn.tree import DecisionTreeRegressor\n",
    "from sklearn.ensemble import RandomForestRegressor, VotingRegressor"
   ]
  },
  {
   "cell_type": "markdown",
   "metadata": {},
   "source": [
    "## Regression Results"
   ]
  },
  {
   "cell_type": "code",
   "execution_count": null,
   "metadata": {},
   "outputs": [],
   "source": [
    "#|export\n",
    "class RegressionResults:\n",
    "    \"Regression results from model set\"\n",
    "    \n",
    "    def __init__(self, \n",
    "                 X, # Predictor variables\n",
    "                 y): # Target variables\n",
    "        self.X, self.y = X, y\n",
    "        self.lr = linear_model.LinearRegression()\n",
    "        self.dt = DecisionTreeRegressor()\n",
    "        self.rf = RandomForestRegressor()\n",
    "        self.xgboost = xgb.XGBRegressor()\n",
    "        self.ensemble = VotingRegressor(estimators=[('lr', self.lr), ('dt', self.dt), \n",
    "                                                    ('rf', self.rf), ('xgboost', self.xgboost)])\n",
    "        self.models_list = [self.lr, self.dt, self.rf, self.xgboost, self.ensemble]\n",
    "        \n",
    "    def report(self):\n",
    "        \"Generate RMSEs for each model\"\n",
    "        rmses = []\n",
    "        for model in self.models_list:\n",
    "            reg = Regressor(self.X, self.y, model)\n",
    "            rmses.append(reg.score())\n",
    "        return rmses\n",
    "    \n",
    "    def df_report(self):\n",
    "        \"Print out a dataframe of results\"\n",
    "        rmses = self.report()\n",
    "        models = [\"linear_regression\", \"decision_tree\", \"random_forest\", \"xgboost\", \"ensemble\"]\n",
    "        df_dict = {'models': models, 'RMSE': rmses}\n",
    "        return pd.DataFrame(df_dict)"
   ]
  },
  {
   "cell_type": "markdown",
   "metadata": {},
   "source": [
    "With this, it's easy to compare models in increasing order of complexity:"
   ]
  },
  {
   "cell_type": "code",
   "execution_count": null,
   "metadata": {},
   "outputs": [
    {
     "data": {
      "text/plain": [
       "[51.4879171646226,\n",
       " 71.42395972271427,\n",
       " 59.789747909287755,\n",
       " 59.629068259985466,\n",
       " 53.0686961154079]"
      ]
     },
     "execution_count": null,
     "metadata": {},
     "output_type": "execute_result"
    }
   ],
   "source": [
    "# load the dataset\n",
    "data = load_diabetes()\n",
    "\n",
    "# create predictor and target variables\n",
    "X, y = data.data, data.target\n",
    "\n",
    "# use the regressor class\n",
    "results = RegressionResults(X, y)\n",
    "rmses = results.report()\n",
    "rmses"
   ]
  },
  {
   "cell_type": "markdown",
   "metadata": {},
   "source": [
    "We can even print out the results as a Pandas `DataFrame`:"
   ]
  },
  {
   "cell_type": "code",
   "execution_count": null,
   "metadata": {},
   "outputs": [
    {
     "data": {
      "text/html": [
       "<div>\n",
       "<style scoped>\n",
       "    .dataframe tbody tr th:only-of-type {\n",
       "        vertical-align: middle;\n",
       "    }\n",
       "\n",
       "    .dataframe tbody tr th {\n",
       "        vertical-align: top;\n",
       "    }\n",
       "\n",
       "    .dataframe thead th {\n",
       "        text-align: right;\n",
       "    }\n",
       "</style>\n",
       "<table border=\"1\" class=\"dataframe\">\n",
       "  <thead>\n",
       "    <tr style=\"text-align: right;\">\n",
       "      <th></th>\n",
       "      <th>models</th>\n",
       "      <th>RMSE</th>\n",
       "    </tr>\n",
       "  </thead>\n",
       "  <tbody>\n",
       "    <tr>\n",
       "      <th>0</th>\n",
       "      <td>linear_regression</td>\n",
       "      <td>56.599953</td>\n",
       "    </tr>\n",
       "    <tr>\n",
       "      <th>1</th>\n",
       "      <td>decision_tree</td>\n",
       "      <td>81.259537</td>\n",
       "    </tr>\n",
       "    <tr>\n",
       "      <th>2</th>\n",
       "      <td>random_forest</td>\n",
       "      <td>57.796375</td>\n",
       "    </tr>\n",
       "    <tr>\n",
       "      <th>3</th>\n",
       "      <td>xgboost</td>\n",
       "      <td>62.734929</td>\n",
       "    </tr>\n",
       "    <tr>\n",
       "      <th>4</th>\n",
       "      <td>ensemble</td>\n",
       "      <td>54.323364</td>\n",
       "    </tr>\n",
       "  </tbody>\n",
       "</table>\n",
       "</div>"
      ],
      "text/plain": [
       "              models       RMSE\n",
       "0  linear_regression  56.599953\n",
       "1      decision_tree  81.259537\n",
       "2      random_forest  57.796375\n",
       "3            xgboost  62.734929\n",
       "4           ensemble  54.323364"
      ]
     },
     "execution_count": null,
     "metadata": {},
     "output_type": "execute_result"
    }
   ],
   "source": [
    "results.df_report()"
   ]
  },
  {
   "cell_type": "markdown",
   "metadata": {},
   "source": [
    "## Classification results\n",
    "Instead of just the one metric, classification is best described by several metrics: accuracy, and ROC AUC score."
   ]
  },
  {
   "cell_type": "code",
   "execution_count": null,
   "metadata": {},
   "outputs": [],
   "source": [
    "#|export\n",
    "class ClassificationResults:\n",
    "    \"Classification results from model set\"\n",
    "    \n",
    "    def __init__(self, X, y):\n",
    "        self.X, self.y = X, y\n",
    "        self.lr = linear_model.LogisticRegression()\n",
    "        self.dt = DecisionTreeClassifier()\n",
    "        self.rf = RandomForestClassifier()\n",
    "        self.xgboost = xgb.XGBClassifier()\n",
    "        self.ensemble = VotingClassifier(estimators=[('lr', self.lr), ('dt', self.dt), \n",
    "                                             ('rf', self.rf), ('xgboost', self.xgboost)], voting='hard')\n",
    "        self.models_list = [self.lr, self.dt, self.rf, self.xgboost, self.ensemble]\n",
    "        \n",
    "    def report(self):\n",
    "        \"Generate performance metric for each model\"\n",
    "        accuracies, aucs = [], []\n",
    "        for model in self.models_list:\n",
    "            reg = Classifier(self.X, self.y, model)\n",
    "            accuracy, auc = reg.score()\n",
    "            accuracies.append(accuracy)\n",
    "            aucs.append(auc)\n",
    "        return accuracies, aucs\n",
    "    \n",
    "    def df_report(self):\n",
    "        \"Print out a dataframe of results\"\n",
    "        accuracies, aucs = self.report()\n",
    "        models = [\"linear_regression\", \"decision_tree\", \"random_forest\", \"xgboost\", \"ensemble\"]\n",
    "        df_dict = {'models': models, 'accuracy': accuracies, 'auc': aucs}\n",
    "        return pd.DataFrame(df_dict)"
   ]
  },
  {
   "cell_type": "markdown",
   "metadata": {},
   "source": [
    "We call `df_report()` again to get a dataframe of results:"
   ]
  },
  {
   "cell_type": "code",
   "execution_count": null,
   "metadata": {},
   "outputs": [
    {
     "data": {
      "text/html": [
       "<div>\n",
       "<style scoped>\n",
       "    .dataframe tbody tr th:only-of-type {\n",
       "        vertical-align: middle;\n",
       "    }\n",
       "\n",
       "    .dataframe tbody tr th {\n",
       "        vertical-align: top;\n",
       "    }\n",
       "\n",
       "    .dataframe thead th {\n",
       "        text-align: right;\n",
       "    }\n",
       "</style>\n",
       "<table border=\"1\" class=\"dataframe\">\n",
       "  <thead>\n",
       "    <tr style=\"text-align: right;\">\n",
       "      <th></th>\n",
       "      <th>models</th>\n",
       "      <th>accuracy</th>\n",
       "      <th>auc</th>\n",
       "    </tr>\n",
       "  </thead>\n",
       "  <tbody>\n",
       "    <tr>\n",
       "      <th>0</th>\n",
       "      <td>linear_regression</td>\n",
       "      <td>0.982456</td>\n",
       "      <td>0.998701</td>\n",
       "    </tr>\n",
       "    <tr>\n",
       "      <th>1</th>\n",
       "      <td>decision_tree</td>\n",
       "      <td>0.991228</td>\n",
       "      <td>1.000000</td>\n",
       "    </tr>\n",
       "    <tr>\n",
       "      <th>2</th>\n",
       "      <td>random_forest</td>\n",
       "      <td>0.973684</td>\n",
       "      <td>0.974017</td>\n",
       "    </tr>\n",
       "    <tr>\n",
       "      <th>3</th>\n",
       "      <td>xgboost</td>\n",
       "      <td>0.964912</td>\n",
       "      <td>0.998291</td>\n",
       "    </tr>\n",
       "    <tr>\n",
       "      <th>4</th>\n",
       "      <td>ensemble</td>\n",
       "      <td>0.982456</td>\n",
       "      <td>1.000000</td>\n",
       "    </tr>\n",
       "  </tbody>\n",
       "</table>\n",
       "</div>"
      ],
      "text/plain": [
       "              models  accuracy       auc\n",
       "0  linear_regression  0.982456  0.998701\n",
       "1      decision_tree  0.991228  1.000000\n",
       "2      random_forest  0.973684  0.974017\n",
       "3            xgboost  0.964912  0.998291\n",
       "4           ensemble  0.982456  1.000000"
      ]
     },
     "execution_count": null,
     "metadata": {},
     "output_type": "execute_result"
    }
   ],
   "source": [
    "# load the dataset\n",
    "data = load_breast_cancer()\n",
    "\n",
    "# create predictor and target variables\n",
    "X, y = data.data, data.target\n",
    "\n",
    "# use the classifier class\n",
    "results = ClassificationResults(X, y)\n",
    "results.df_report()"
   ]
  },
  {
   "cell_type": "code",
   "execution_count": null,
   "metadata": {},
   "outputs": [],
   "source": []
  }
 ],
 "metadata": {
  "kernelspec": {
   "display_name": "Python 3 (ipykernel)",
   "language": "python",
   "name": "python3"
  }
 },
 "nbformat": 4,
 "nbformat_minor": 4
}
