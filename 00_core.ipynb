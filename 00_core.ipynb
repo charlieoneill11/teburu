{
 "cells": [
  {
   "cell_type": "code",
   "execution_count": null,
   "metadata": {},
   "outputs": [],
   "source": [
    "%reload_ext autoreload\n",
    "%autoreload 2"
   ]
  },
  {
   "cell_type": "code",
   "execution_count": null,
   "metadata": {},
   "outputs": [],
   "source": [
    "#| default_exp core"
   ]
  },
  {
   "cell_type": "markdown",
   "metadata": {},
   "source": [
    "# Core\n",
    "\n",
    "> A simple API for automating tabular data analysis."
   ]
  },
  {
   "cell_type": "code",
   "execution_count": null,
   "metadata": {},
   "outputs": [],
   "source": [
    "#|hide\n",
    "#|export\n",
    "from nbdev.showdoc import *\n",
    "from fastcore.all import *\n",
    "from sklearn.datasets import load_breast_cancer, load_diabetes\n",
    "from sklearn.model_selection import train_test_split\n",
    "from sklearn.metrics import mean_squared_error as mse\n",
    "from sklearn.metrics import roc_auc_score\n",
    "from sklearn.metrics import accuracy_score\n",
    "import numpy as np\n",
    "import xgboost as xgb"
   ]
  },
  {
   "cell_type": "markdown",
   "metadata": {},
   "source": [
    "## Regression\n",
    "The base object in this class is `Regressor`. Basic methods (shaped by sklearn methodology) are `train`, `predict`, and `score`."
   ]
  },
  {
   "cell_type": "code",
   "execution_count": null,
   "metadata": {},
   "outputs": [],
   "source": [
    "#|export\n",
    "class Regressor:\n",
    "    \"Base regressor class\"\n",
    "    \n",
    "    def __init__(self, \n",
    "                 X: 'numpy.ndarray', # Predictor variables\n",
    "                 y: 'numpy.ndarray', # Target variable\n",
    "                 model=xgb.XGBRegressor(), # Model form to train\n",
    "                 fixed_seed=False, # Random or fixed state variable\n",
    "                 test_size=0.2): # Train-test split portion\n",
    "        self.X = X\n",
    "        self.y = y\n",
    "        self.test_size = 0.2\n",
    "        # set seed\n",
    "        if fixed_seed: self.seed = 42\n",
    "        else: self.seed = np.random.randint(low=0, high=100)\n",
    "        # split data\n",
    "        self.X_train, self.X_test, self.y_train, self.y_test = train_test_split(X, y, \n",
    "                                                                                test_size=self.test_size,\n",
    "                                                                                random_state=self.seed)\n",
    "        # instantiate model\n",
    "        self.model = model\n",
    "            \n",
    "    def rmse(self, pred, true):\n",
    "        return np.sqrt(mse(pred, true))\n",
    "        \n",
    "    def train(self):\n",
    "        \"Train the model\"\n",
    "        return self.model.fit(self.X_train, self.y_train)\n",
    "    \n",
    "    def predict(self):\n",
    "        \"Return predictions for model\"\n",
    "        return self.model.predict(self.X_test)\n",
    "    \n",
    "    def score(self):\n",
    "        \"Score the model according to chosen evaluation metric\"\n",
    "        self.model = self.train()\n",
    "        preds = self.predict()\n",
    "        return self.rmse(preds, self.y_test)\n",
    "        \n",
    "    def __str__(self): \n",
    "        return f\"Regressor: {len(self.X_train)} training, {len(self.X_test)} testing. \\nModel: {self.model}\""
   ]
  },
  {
   "cell_type": "markdown",
   "metadata": {},
   "source": [
    "The majority of work we would normally need to do (creating an evaluation set, training the model, making predictions, and scoring the performance) is handled in one step with `Regressor`:"
   ]
  },
  {
   "cell_type": "code",
   "execution_count": null,
   "metadata": {},
   "outputs": [
    {
     "data": {
      "text/plain": [
       "61.37451110412363"
      ]
     },
     "execution_count": null,
     "metadata": {},
     "output_type": "execute_result"
    }
   ],
   "source": [
    "# load the dataset\n",
    "data = load_diabetes()\n",
    "\n",
    "# create predictor and target variables\n",
    "X, y = data.data, data.target\n",
    "\n",
    "# use the regressor class\n",
    "reg = Regressor(X, y)\n",
    "reg.score()"
   ]
  },
  {
   "cell_type": "markdown",
   "metadata": {},
   "source": [
    "You can also print the model out, providing information about the model type, and the number of train/test examples:"
   ]
  },
  {
   "cell_type": "code",
   "execution_count": null,
   "metadata": {},
   "outputs": [
    {
     "name": "stdout",
     "output_type": "stream",
     "text": [
      "Regressor: 353 training, 89 testing. \n",
      "Model: XGBRegressor(base_score=0.5, booster='gbtree', callbacks=None,\n",
      "             colsample_bylevel=1, colsample_bynode=1, colsample_bytree=1,\n",
      "             early_stopping_rounds=None, enable_categorical=False,\n",
      "             eval_metric=None, gamma=0, gpu_id=-1, grow_policy='depthwise',\n",
      "             importance_type=None, interaction_constraints='',\n",
      "             learning_rate=0.300000012, max_bin=256, max_cat_to_onehot=4,\n",
      "             max_delta_step=0, max_depth=6, max_leaves=0, min_child_weight=1,\n",
      "             missing=nan, monotone_constraints='()', n_estimators=100, n_jobs=0,\n",
      "             num_parallel_tree=1, predictor='auto', random_state=0, reg_alpha=0,\n",
      "             reg_lambda=1, ...)\n"
     ]
    }
   ],
   "source": [
    "print(reg)"
   ]
  },
  {
   "cell_type": "markdown",
   "metadata": {},
   "source": [
    "You can test that the fixed seed gives you the same performance for reproducability:"
   ]
  },
  {
   "cell_type": "code",
   "execution_count": null,
   "metadata": {},
   "outputs": [],
   "source": [
    "reg1 = Regressor(X, y, fixed_seed=True)\n",
    "reg2 = Regressor(X, y, fixed_seed=True)\n",
    "score_1, score_2 = reg1.score(), reg2.score()\n",
    "test_eq(score_1, score_2)"
   ]
  },
  {
   "cell_type": "markdown",
   "metadata": {},
   "source": [
    "## Classification\n",
    "Same idea and methods as `Regressor`."
   ]
  },
  {
   "cell_type": "code",
   "execution_count": null,
   "metadata": {},
   "outputs": [],
   "source": [
    "#|export\n",
    "class Classifier:\n",
    "    \"Base classifier class\"\n",
    "    \n",
    "    def __init__(self, \n",
    "                 X: 'numpy.ndarray', # Predictor variables\n",
    "                 y: 'numpy.ndarray', # Target variable\n",
    "                 test_size=0.2): # Train-test split portion\n",
    "        self.X = X\n",
    "        self.y = y\n",
    "        self.test_size = 0.2\n",
    "        # split data\n",
    "        self.X_train, self.X_test, self.y_train, self.y_test = train_test_split(X, y, \n",
    "                                                                                test_size=self.test_size)\n",
    "        # instantiate model\n",
    "        self.model = xgb.XGBClassifier()\n",
    "        \n",
    "    def train(self):\n",
    "        \"Train the model\"\n",
    "        return self.model.fit(self.X_train, self.y_train)\n",
    "    \n",
    "    def predict(self):\n",
    "        \"Return predictions for model\"\n",
    "        return self.model.predict(self.X_test), self.model.predict_proba(self.X_test)[:,1]\n",
    "    \n",
    "    def score(self):\n",
    "        \"Score the model according to chosen evaluation metric\"\n",
    "        self.model = self.train()\n",
    "        preds, preds_proba = self.predict()\n",
    "        return accuracy_score(preds, self.y_test), roc_auc_score(self.y_test, preds_proba)\n",
    "        \n",
    "    def __str__(self): \n",
    "        return f\"Classifier: {len(self.X_train)} training, {len(self.X_test)} testing. \\nModel: {self.model}\""
   ]
  },
  {
   "cell_type": "markdown",
   "metadata": {},
   "source": [
    "It's very easy to get immediately high accuracy in two lines of code, using `cls.score()`:"
   ]
  },
  {
   "cell_type": "code",
   "execution_count": null,
   "metadata": {},
   "outputs": [
    {
     "name": "stdout",
     "output_type": "stream",
     "text": [
      "Accuracy = 0.9649\n",
      "AUC = 0.9974\n"
     ]
    }
   ],
   "source": [
    "# load the dataset\n",
    "data = load_breast_cancer()\n",
    "\n",
    "# create predictor and target variables\n",
    "X, y = data.data, data.target\n",
    "\n",
    "# use the regressor class\n",
    "cls = Classifier(X, y)\n",
    "accuracy, auc = cls.score()\n",
    "print(f\"Accuracy = {np.round(accuracy, 4)}\")\n",
    "print(f\"AUC = {np.round(auc, 4)}\")"
   ]
  },
  {
   "cell_type": "code",
   "execution_count": null,
   "metadata": {},
   "outputs": [],
   "source": []
  },
  {
   "cell_type": "code",
   "execution_count": null,
   "metadata": {},
   "outputs": [],
   "source": []
  }
 ],
 "metadata": {
  "kernelspec": {
   "display_name": "Python 3 (ipykernel)",
   "language": "python",
   "name": "python3"
  }
 },
 "nbformat": 4,
 "nbformat_minor": 4
}
